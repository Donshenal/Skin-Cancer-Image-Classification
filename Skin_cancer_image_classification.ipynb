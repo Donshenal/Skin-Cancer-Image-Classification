{
 "cells": [
  {
   "cell_type": "code",
   "execution_count": 32,
   "metadata": {},
   "outputs": [],
   "source": [
    "import numpy as np\n",
    "import pandas as pd\n",
    "import matplotlib.pyplot as plt\n",
    "import seaborn as sns\n",
    "import plotly.express as px\n",
    "import os\n",
    "import itertools\n",
    "\n",
    "import tensorflow as tf\n",
    "\n",
    "from tensorflow.keras import layers\n",
    "from tensorflow.keras import regularizers\n",
    "\n",
    "from glob import glob\n",
    "from PIL import Image\n",
    "from sklearn.model_selection import train_test_split\n",
    "from sklearn.metrics import confusion_matrix\n",
    "from tensorflow.keras.utils import to_categorical\n",
    "from tensorflow.keras.models import Sequential\n",
    "from tensorflow.keras.layers import Dense, Dropout, Flatten, Conv2D, MaxPool2D\n",
    "from tensorflow.keras import backend as K\n",
    "from tensorflow.keras.optimizers import Adam\n",
    "from tensorflow.keras.preprocessing.image import ImageDataGenerator\n",
    "from tensorflow.keras.callbacks import EarlyStopping, ReduceLROnPlateau\n",
    "\n",
    "from sklearn.model_selection import cross_val_predict, cross_val_score, train_test_split\n",
    "from sklearn.model_selection import GridSearchCV, RandomizedSearchCV\n",
    "from sklearn.metrics import accuracy_score, recall_score, precision_score\n",
    "from sklearn.metrics import confusion_matrix, classification_report, accuracy_score\n",
    "\n",
    "from sklearn.preprocessing import OneHotEncoder, StandardScaler, LabelEncoder\n",
    "\n",
    "from sklearn import set_config\n",
    "set_config(transform_output=\"pandas\")\n",
    "\n",
    "import missingno as msno \n",
    "\n",
    "# Set random seed \n",
    "RSEED = 42\n"
   ]
  },
  {
   "cell_type": "markdown",
   "metadata": {},
   "source": [
    "## <a id='2'>Loading and cleaning the data</a>"
   ]
  },
  {
   "cell_type": "code",
   "execution_count": 2,
   "metadata": {},
   "outputs": [
    {
     "data": {
      "text/html": [
       "<div>\n",
       "<style scoped>\n",
       "    .dataframe tbody tr th:only-of-type {\n",
       "        vertical-align: middle;\n",
       "    }\n",
       "\n",
       "    .dataframe tbody tr th {\n",
       "        vertical-align: top;\n",
       "    }\n",
       "\n",
       "    .dataframe thead th {\n",
       "        text-align: right;\n",
       "    }\n",
       "</style>\n",
       "<table border=\"1\" class=\"dataframe\">\n",
       "  <thead>\n",
       "    <tr style=\"text-align: right;\">\n",
       "      <th></th>\n",
       "      <th>lesion_id</th>\n",
       "      <th>image_id</th>\n",
       "      <th>dx</th>\n",
       "      <th>dx_type</th>\n",
       "      <th>age</th>\n",
       "      <th>sex</th>\n",
       "      <th>localization</th>\n",
       "    </tr>\n",
       "  </thead>\n",
       "  <tbody>\n",
       "    <tr>\n",
       "      <th>0</th>\n",
       "      <td>HAM_0000118</td>\n",
       "      <td>ISIC_0027419</td>\n",
       "      <td>bkl</td>\n",
       "      <td>histo</td>\n",
       "      <td>80.0</td>\n",
       "      <td>male</td>\n",
       "      <td>scalp</td>\n",
       "    </tr>\n",
       "    <tr>\n",
       "      <th>1</th>\n",
       "      <td>HAM_0000118</td>\n",
       "      <td>ISIC_0025030</td>\n",
       "      <td>bkl</td>\n",
       "      <td>histo</td>\n",
       "      <td>80.0</td>\n",
       "      <td>male</td>\n",
       "      <td>scalp</td>\n",
       "    </tr>\n",
       "    <tr>\n",
       "      <th>2</th>\n",
       "      <td>HAM_0002730</td>\n",
       "      <td>ISIC_0026769</td>\n",
       "      <td>bkl</td>\n",
       "      <td>histo</td>\n",
       "      <td>80.0</td>\n",
       "      <td>male</td>\n",
       "      <td>scalp</td>\n",
       "    </tr>\n",
       "    <tr>\n",
       "      <th>3</th>\n",
       "      <td>HAM_0002730</td>\n",
       "      <td>ISIC_0025661</td>\n",
       "      <td>bkl</td>\n",
       "      <td>histo</td>\n",
       "      <td>80.0</td>\n",
       "      <td>male</td>\n",
       "      <td>scalp</td>\n",
       "    </tr>\n",
       "    <tr>\n",
       "      <th>4</th>\n",
       "      <td>HAM_0001466</td>\n",
       "      <td>ISIC_0031633</td>\n",
       "      <td>bkl</td>\n",
       "      <td>histo</td>\n",
       "      <td>75.0</td>\n",
       "      <td>male</td>\n",
       "      <td>ear</td>\n",
       "    </tr>\n",
       "  </tbody>\n",
       "</table>\n",
       "</div>"
      ],
      "text/plain": [
       "     lesion_id      image_id   dx dx_type   age   sex localization\n",
       "0  HAM_0000118  ISIC_0027419  bkl   histo  80.0  male        scalp\n",
       "1  HAM_0000118  ISIC_0025030  bkl   histo  80.0  male        scalp\n",
       "2  HAM_0002730  ISIC_0026769  bkl   histo  80.0  male        scalp\n",
       "3  HAM_0002730  ISIC_0025661  bkl   histo  80.0  male        scalp\n",
       "4  HAM_0001466  ISIC_0031633  bkl   histo  75.0  male          ear"
      ]
     },
     "execution_count": 2,
     "metadata": {},
     "output_type": "execute_result"
    }
   ],
   "source": [
    "df= pd.read_csv('data/archive/HAM10000_metadata.csv')\n",
    "\n",
    "df.head()\n"
   ]
  },
  {
   "cell_type": "code",
   "execution_count": 3,
   "metadata": {},
   "outputs": [
    {
     "name": "stdout",
     "output_type": "stream",
     "text": [
      "<class 'pandas.core.frame.DataFrame'>\n",
      "RangeIndex: 10015 entries, 0 to 10014\n",
      "Data columns (total 7 columns):\n",
      " #   Column        Non-Null Count  Dtype  \n",
      "---  ------        --------------  -----  \n",
      " 0   lesion_id     10015 non-null  object \n",
      " 1   image_id      10015 non-null  object \n",
      " 2   dx            10015 non-null  object \n",
      " 3   dx_type       10015 non-null  object \n",
      " 4   age           9958 non-null   float64\n",
      " 5   sex           10015 non-null  object \n",
      " 6   localization  10015 non-null  object \n",
      "dtypes: float64(1), object(6)\n",
      "memory usage: 547.8+ KB\n"
     ]
    }
   ],
   "source": [
    "df.info()"
   ]
  },
  {
   "cell_type": "markdown",
   "metadata": {},
   "source": [
    "\n",
    "Creating dictionary for displaying more userfriendly labels:"
   ]
  },
  {
   "cell_type": "code",
   "execution_count": 4,
   "metadata": {},
   "outputs": [],
   "source": [
    "lesion_type_dict = {\n",
    "    'nv': 'Melanocytic nevi',\n",
    "    'mel': 'Melanoma',\n",
    "    'bkl': 'Benign keratosis-like lesions ',\n",
    "    'bcc': 'Basal cell carcinoma',\n",
    "    'akiec': 'Actinic keratoses',\n",
    "    'vasc': 'Vascular lesions',\n",
    "    'df': 'Dermatofibroma'\n",
    "}\n",
    "base_skin_dir = 'data/archive'\n"
   ]
  },
  {
   "cell_type": "markdown",
   "metadata": {},
   "source": [
    "\n",
    "Merging images from both folders into one dictionary:"
   ]
  },
  {
   "cell_type": "code",
   "execution_count": 5,
   "metadata": {},
   "outputs": [],
   "source": [
    "imageid_path_dict = {os.path.splitext(os.path.basename(x))[0]: x\n",
    "                     for x in glob(os.path.join(base_skin_dir, '*', '*.jpg'))}"
   ]
  },
  {
   "cell_type": "markdown",
   "metadata": {},
   "source": [
    "\n",
    "Creating new columns for better understanding of features:"
   ]
  },
  {
   "cell_type": "code",
   "execution_count": 6,
   "metadata": {},
   "outputs": [
    {
     "data": {
      "text/html": [
       "<div>\n",
       "<style scoped>\n",
       "    .dataframe tbody tr th:only-of-type {\n",
       "        vertical-align: middle;\n",
       "    }\n",
       "\n",
       "    .dataframe tbody tr th {\n",
       "        vertical-align: top;\n",
       "    }\n",
       "\n",
       "    .dataframe thead th {\n",
       "        text-align: right;\n",
       "    }\n",
       "</style>\n",
       "<table border=\"1\" class=\"dataframe\">\n",
       "  <thead>\n",
       "    <tr style=\"text-align: right;\">\n",
       "      <th></th>\n",
       "      <th>lesion_id</th>\n",
       "      <th>image_id</th>\n",
       "      <th>dx</th>\n",
       "      <th>dx_type</th>\n",
       "      <th>age</th>\n",
       "      <th>sex</th>\n",
       "      <th>localization</th>\n",
       "      <th>path</th>\n",
       "      <th>cell_type</th>\n",
       "      <th>cell_type_idx</th>\n",
       "    </tr>\n",
       "  </thead>\n",
       "  <tbody>\n",
       "    <tr>\n",
       "      <th>0</th>\n",
       "      <td>HAM_0000118</td>\n",
       "      <td>ISIC_0027419</td>\n",
       "      <td>bkl</td>\n",
       "      <td>histo</td>\n",
       "      <td>80.0</td>\n",
       "      <td>male</td>\n",
       "      <td>scalp</td>\n",
       "      <td>data/archive\\HAM10000_images_part_1\\ISIC_00274...</td>\n",
       "      <td>Benign keratosis-like lesions</td>\n",
       "      <td>2</td>\n",
       "    </tr>\n",
       "    <tr>\n",
       "      <th>1</th>\n",
       "      <td>HAM_0000118</td>\n",
       "      <td>ISIC_0025030</td>\n",
       "      <td>bkl</td>\n",
       "      <td>histo</td>\n",
       "      <td>80.0</td>\n",
       "      <td>male</td>\n",
       "      <td>scalp</td>\n",
       "      <td>data/archive\\HAM10000_images_part_1\\ISIC_00250...</td>\n",
       "      <td>Benign keratosis-like lesions</td>\n",
       "      <td>2</td>\n",
       "    </tr>\n",
       "    <tr>\n",
       "      <th>2</th>\n",
       "      <td>HAM_0002730</td>\n",
       "      <td>ISIC_0026769</td>\n",
       "      <td>bkl</td>\n",
       "      <td>histo</td>\n",
       "      <td>80.0</td>\n",
       "      <td>male</td>\n",
       "      <td>scalp</td>\n",
       "      <td>data/archive\\HAM10000_images_part_1\\ISIC_00267...</td>\n",
       "      <td>Benign keratosis-like lesions</td>\n",
       "      <td>2</td>\n",
       "    </tr>\n",
       "    <tr>\n",
       "      <th>3</th>\n",
       "      <td>HAM_0002730</td>\n",
       "      <td>ISIC_0025661</td>\n",
       "      <td>bkl</td>\n",
       "      <td>histo</td>\n",
       "      <td>80.0</td>\n",
       "      <td>male</td>\n",
       "      <td>scalp</td>\n",
       "      <td>data/archive\\HAM10000_images_part_1\\ISIC_00256...</td>\n",
       "      <td>Benign keratosis-like lesions</td>\n",
       "      <td>2</td>\n",
       "    </tr>\n",
       "    <tr>\n",
       "      <th>4</th>\n",
       "      <td>HAM_0001466</td>\n",
       "      <td>ISIC_0031633</td>\n",
       "      <td>bkl</td>\n",
       "      <td>histo</td>\n",
       "      <td>75.0</td>\n",
       "      <td>male</td>\n",
       "      <td>ear</td>\n",
       "      <td>data/archive\\HAM10000_images_part_2\\ISIC_00316...</td>\n",
       "      <td>Benign keratosis-like lesions</td>\n",
       "      <td>2</td>\n",
       "    </tr>\n",
       "  </tbody>\n",
       "</table>\n",
       "</div>"
      ],
      "text/plain": [
       "     lesion_id      image_id   dx dx_type   age   sex localization  \\\n",
       "0  HAM_0000118  ISIC_0027419  bkl   histo  80.0  male        scalp   \n",
       "1  HAM_0000118  ISIC_0025030  bkl   histo  80.0  male        scalp   \n",
       "2  HAM_0002730  ISIC_0026769  bkl   histo  80.0  male        scalp   \n",
       "3  HAM_0002730  ISIC_0025661  bkl   histo  80.0  male        scalp   \n",
       "4  HAM_0001466  ISIC_0031633  bkl   histo  75.0  male          ear   \n",
       "\n",
       "                                                path  \\\n",
       "0  data/archive\\HAM10000_images_part_1\\ISIC_00274...   \n",
       "1  data/archive\\HAM10000_images_part_1\\ISIC_00250...   \n",
       "2  data/archive\\HAM10000_images_part_1\\ISIC_00267...   \n",
       "3  data/archive\\HAM10000_images_part_1\\ISIC_00256...   \n",
       "4  data/archive\\HAM10000_images_part_2\\ISIC_00316...   \n",
       "\n",
       "                        cell_type  cell_type_idx  \n",
       "0  Benign keratosis-like lesions               2  \n",
       "1  Benign keratosis-like lesions               2  \n",
       "2  Benign keratosis-like lesions               2  \n",
       "3  Benign keratosis-like lesions               2  \n",
       "4  Benign keratosis-like lesions               2  "
      ]
     },
     "execution_count": 6,
     "metadata": {},
     "output_type": "execute_result"
    }
   ],
   "source": [
    "df['path'] = df['image_id'].map(imageid_path_dict.get)\n",
    "df['cell_type'] = df['dx'].map(lesion_type_dict.get)\n",
    "df['cell_type_idx'] = pd.Categorical(df['cell_type']).codes\n",
    "\n",
    "df.head()"
   ]
  },
  {
   "cell_type": "code",
   "execution_count": 7,
   "metadata": {},
   "outputs": [
    {
     "name": "stdout",
     "output_type": "stream",
     "text": [
      "<class 'pandas.core.frame.DataFrame'>\n",
      "RangeIndex: 10015 entries, 0 to 10014\n",
      "Data columns (total 10 columns):\n",
      " #   Column         Non-Null Count  Dtype  \n",
      "---  ------         --------------  -----  \n",
      " 0   lesion_id      10015 non-null  object \n",
      " 1   image_id       10015 non-null  object \n",
      " 2   dx             10015 non-null  object \n",
      " 3   dx_type        10015 non-null  object \n",
      " 4   age            9958 non-null   float64\n",
      " 5   sex            10015 non-null  object \n",
      " 6   localization   10015 non-null  object \n",
      " 7   path           10015 non-null  object \n",
      " 8   cell_type      10015 non-null  object \n",
      " 9   cell_type_idx  10015 non-null  int8   \n",
      "dtypes: float64(1), int8(1), object(8)\n",
      "memory usage: 714.1+ KB\n"
     ]
    }
   ],
   "source": [
    "df.info()"
   ]
  },
  {
   "cell_type": "markdown",
   "metadata": {},
   "source": [
    "### Data cleaning:"
   ]
  },
  {
   "cell_type": "code",
   "execution_count": 8,
   "metadata": {},
   "outputs": [
    {
     "data": {
      "text/plain": [
       "False    10015\n",
       "Name: count, dtype: int64"
      ]
     },
     "execution_count": 8,
     "metadata": {},
     "output_type": "execute_result"
    }
   ],
   "source": [
    "df.duplicated().value_counts()"
   ]
  },
  {
   "cell_type": "markdown",
   "metadata": {},
   "source": [
    "No duplicated rows"
   ]
  },
  {
   "cell_type": "code",
   "execution_count": 9,
   "metadata": {},
   "outputs": [
    {
     "data": {
      "text/plain": [
       "lesion_id         0\n",
       "image_id          0\n",
       "dx                0\n",
       "dx_type           0\n",
       "age              57\n",
       "sex               0\n",
       "localization      0\n",
       "path              0\n",
       "cell_type         0\n",
       "cell_type_idx     0\n",
       "dtype: int64"
      ]
     },
     "execution_count": 9,
     "metadata": {},
     "output_type": "execute_result"
    }
   ],
   "source": [
    "df.isnull().sum()"
   ]
  },
  {
   "cell_type": "markdown",
   "metadata": {},
   "source": [
    "Checking distribution of 'age' column with histogram:"
   ]
  },
  {
   "cell_type": "code",
   "execution_count": 10,
   "metadata": {},
   "outputs": [
    {
     "data": {
      "text/plain": [
       "<Axes: xlabel='age', ylabel='Count'>"
      ]
     },
     "execution_count": 10,
     "metadata": {},
     "output_type": "execute_result"
    },
    {
     "data": {
      "image/png": "[encoded data removed]",
      "text/plain": [
       "<Figure size 640x480 with 1 Axes>"
      ]
     },
     "metadata": {},
     "output_type": "display_data"
    }
   ],
   "source": [
    "sns.histplot(df['age'], kde=True, color='#33658A')"
   ]
  },
  {
   "cell_type": "markdown",
   "metadata": {},
   "source": [
    "'age' data is skewed with significantly more higher values, therefore the missing values with be filled with the median instead of the mean:"
   ]
  },
  {
   "cell_type": "code",
   "execution_count": 11,
   "metadata": {},
   "outputs": [],
   "source": [
    "hours_studied_median = df['age'].median()\n",
    "df['age'].fillna(hours_studied_median, inplace=True)"
   ]
  },
  {
   "cell_type": "code",
   "execution_count": 12,
   "metadata": {},
   "outputs": [
    {
     "data": {
      "text/plain": [
       "lesion_id        0\n",
       "image_id         0\n",
       "dx               0\n",
       "dx_type          0\n",
       "age              0\n",
       "sex              0\n",
       "localization     0\n",
       "path             0\n",
       "cell_type        0\n",
       "cell_type_idx    0\n",
       "dtype: int64"
      ]
     },
     "execution_count": 12,
     "metadata": {},
     "output_type": "execute_result"
    }
   ],
   "source": [
    "df.isnull().sum()"
   ]
  },
  {
   "cell_type": "markdown",
   "metadata": {},
   "source": [
    "# <a id='3'>Part 1: Exploratory Data Analysis (EDA)</a>"
   ]
  },
  {
   "cell_type": "markdown",
   "metadata": {},
   "source": [
    "1.1 Age dependencies:"
   ]
  },
  {
   "cell_type": "markdown",
   "metadata": {},
   "source": [
    "# <a id='4'>Part 2: Model creation</a>"
   ]
  },
  {
   "cell_type": "markdown",
   "metadata": {},
   "source": [
    "Resizing images and saving them as numpy array in new 'image' column:"
   ]
  },
  {
   "cell_type": "code",
   "execution_count": 13,
   "metadata": {},
   "outputs": [],
   "source": [
    "df['image'] = df['path'].map(lambda x: np.asarray(Image.open(x).resize((100,75))))"
   ]
  },
  {
   "cell_type": "code",
   "execution_count": 14,
   "metadata": {},
   "outputs": [],
   "source": [
    "features=df.drop(columns=['cell_type_idx'],axis=1)\n",
    "target=df['cell_type_idx']"
   ]
  },
  {
   "cell_type": "code",
   "execution_count": 15,
   "metadata": {},
   "outputs": [],
   "source": [
    "x_train, x_test, y_train, y_test = train_test_split(features, target, test_size=0.30,random_state=42)"
   ]
  },
  {
   "cell_type": "code",
   "execution_count": 16,
   "metadata": {},
   "outputs": [
    {
     "data": {
      "text/html": [
       "<div>\n",
       "<style scoped>\n",
       "    .dataframe tbody tr th:only-of-type {\n",
       "        vertical-align: middle;\n",
       "    }\n",
       "\n",
       "    .dataframe tbody tr th {\n",
       "        vertical-align: top;\n",
       "    }\n",
       "\n",
       "    .dataframe thead th {\n",
       "        text-align: right;\n",
       "    }\n",
       "</style>\n",
       "<table border=\"1\" class=\"dataframe\">\n",
       "  <thead>\n",
       "    <tr style=\"text-align: right;\">\n",
       "      <th></th>\n",
       "      <th>lesion_id</th>\n",
       "      <th>image_id</th>\n",
       "      <th>dx</th>\n",
       "      <th>dx_type</th>\n",
       "      <th>age</th>\n",
       "      <th>sex</th>\n",
       "      <th>localization</th>\n",
       "      <th>path</th>\n",
       "      <th>cell_type</th>\n",
       "      <th>image</th>\n",
       "    </tr>\n",
       "  </thead>\n",
       "  <tbody>\n",
       "    <tr>\n",
       "      <th>2399</th>\n",
       "      <td>HAM_0004542</td>\n",
       "      <td>ISIC_0027256</td>\n",
       "      <td>vasc</td>\n",
       "      <td>consensus</td>\n",
       "      <td>0.0</td>\n",
       "      <td>female</td>\n",
       "      <td>back</td>\n",
       "      <td>data/archive\\HAM10000_images_part_1\\ISIC_00272...</td>\n",
       "      <td>Vascular lesions</td>\n",
       "      <td>[[[201, 182, 205], [201, 181, 206], [201, 182,...</td>\n",
       "    </tr>\n",
       "    <tr>\n",
       "      <th>8246</th>\n",
       "      <td>HAM_0001872</td>\n",
       "      <td>ISIC_0029188</td>\n",
       "      <td>nv</td>\n",
       "      <td>histo</td>\n",
       "      <td>60.0</td>\n",
       "      <td>female</td>\n",
       "      <td>lower extremity</td>\n",
       "      <td>data/archive\\HAM10000_images_part_1\\ISIC_00291...</td>\n",
       "      <td>Melanocytic nevi</td>\n",
       "      <td>[[[251, 200, 245], [254, 203, 252], [253, 203,...</td>\n",
       "    </tr>\n",
       "    <tr>\n",
       "      <th>8052</th>\n",
       "      <td>HAM_0000897</td>\n",
       "      <td>ISIC_0029306</td>\n",
       "      <td>nv</td>\n",
       "      <td>histo</td>\n",
       "      <td>35.0</td>\n",
       "      <td>female</td>\n",
       "      <td>acral</td>\n",
       "      <td>data/archive\\HAM10000_images_part_2\\ISIC_00293...</td>\n",
       "      <td>Melanocytic nevi</td>\n",
       "      <td>[[[188, 148, 140], [192, 151, 144], [191, 150,...</td>\n",
       "    </tr>\n",
       "    <tr>\n",
       "      <th>5840</th>\n",
       "      <td>HAM_0006639</td>\n",
       "      <td>ISIC_0028733</td>\n",
       "      <td>nv</td>\n",
       "      <td>follow_up</td>\n",
       "      <td>45.0</td>\n",
       "      <td>male</td>\n",
       "      <td>lower extremity</td>\n",
       "      <td>data/archive\\HAM10000_images_part_1\\ISIC_00287...</td>\n",
       "      <td>Melanocytic nevi</td>\n",
       "      <td>[[[240, 154, 172], [241, 155, 173], [243, 157,...</td>\n",
       "    </tr>\n",
       "    <tr>\n",
       "      <th>3540</th>\n",
       "      <td>HAM_0007469</td>\n",
       "      <td>ISIC_0030049</td>\n",
       "      <td>nv</td>\n",
       "      <td>follow_up</td>\n",
       "      <td>35.0</td>\n",
       "      <td>female</td>\n",
       "      <td>trunk</td>\n",
       "      <td>data/archive\\HAM10000_images_part_2\\ISIC_00300...</td>\n",
       "      <td>Melanocytic nevi</td>\n",
       "      <td>[[[231, 172, 173], [234, 175, 177], [236, 176,...</td>\n",
       "    </tr>\n",
       "  </tbody>\n",
       "</table>\n",
       "</div>"
      ],
      "text/plain": [
       "        lesion_id      image_id    dx    dx_type   age     sex  \\\n",
       "2399  HAM_0004542  ISIC_0027256  vasc  consensus   0.0  female   \n",
       "8246  HAM_0001872  ISIC_0029188    nv      histo  60.0  female   \n",
       "8052  HAM_0000897  ISIC_0029306    nv      histo  35.0  female   \n",
       "5840  HAM_0006639  ISIC_0028733    nv  follow_up  45.0    male   \n",
       "3540  HAM_0007469  ISIC_0030049    nv  follow_up  35.0  female   \n",
       "\n",
       "         localization                                               path  \\\n",
       "2399             back  data/archive\\HAM10000_images_part_1\\ISIC_00272...   \n",
       "8246  lower extremity  data/archive\\HAM10000_images_part_1\\ISIC_00291...   \n",
       "8052            acral  data/archive\\HAM10000_images_part_2\\ISIC_00293...   \n",
       "5840  lower extremity  data/archive\\HAM10000_images_part_1\\ISIC_00287...   \n",
       "3540            trunk  data/archive\\HAM10000_images_part_2\\ISIC_00300...   \n",
       "\n",
       "             cell_type                                              image  \n",
       "2399  Vascular lesions  [[[201, 182, 205], [201, 181, 206], [201, 182,...  \n",
       "8246  Melanocytic nevi  [[[251, 200, 245], [254, 203, 252], [253, 203,...  \n",
       "8052  Melanocytic nevi  [[[188, 148, 140], [192, 151, 144], [191, 150,...  \n",
       "5840  Melanocytic nevi  [[[240, 154, 172], [241, 155, 173], [243, 157,...  \n",
       "3540  Melanocytic nevi  [[[231, 172, 173], [234, 175, 177], [236, 176,...  "
      ]
     },
     "execution_count": 16,
     "metadata": {},
     "output_type": "execute_result"
    }
   ],
   "source": [
    "x_train.head()"
   ]
  },
  {
   "cell_type": "markdown",
   "metadata": {},
   "source": [
    "Normalization of images:"
   ]
  },
  {
   "cell_type": "code",
   "execution_count": 17,
   "metadata": {},
   "outputs": [],
   "source": [
    "x_train = np.asarray(x_train['image'].tolist())\n",
    "x_test = np.asarray(x_test['image'].tolist())\n",
    "\n",
    "x_train_mean = np.mean(x_train)\n",
    "x_train_std = np.std(x_train)\n",
    "\n",
    "x_test_mean = np.mean(x_test)\n",
    "x_test_std = np.std(x_test)\n",
    "\n",
    "x_train = (x_train - x_train_mean)/x_train_std\n",
    "x_test = (x_test - x_test_mean)/x_test_std"
   ]
  },
  {
   "cell_type": "markdown",
   "metadata": {},
   "source": [
    "One hot encoding of target feature:"
   ]
  },
  {
   "cell_type": "code",
   "execution_count": 18,
   "metadata": {},
   "outputs": [],
   "source": [
    "y_train = to_categorical(y_train, num_classes = 7)\n",
    "y_test = to_categorical(y_test, num_classes = 7)"
   ]
  },
  {
   "cell_type": "markdown",
   "metadata": {},
   "source": [
    "Further splitting of train data into training and validation set:"
   ]
  },
  {
   "cell_type": "code",
   "execution_count": 19,
   "metadata": {},
   "outputs": [],
   "source": [
    "x_train, x_validate, y_train, y_validate = train_test_split(x_train, y_train, test_size = 0.1, random_state = 2)"
   ]
  },
  {
   "cell_type": "code",
   "execution_count": 20,
   "metadata": {},
   "outputs": [],
   "source": [
    "# Reshape image in 3 dimensions (height = 75px, width = 100px , canal = 3)\n",
    "x_train = x_train.reshape(x_train.shape[0], *(75, 100, 3))\n",
    "x_test = x_test.reshape(x_test.shape[0], *(75, 100, 3))\n",
    "x_validate = x_validate.reshape(x_validate.shape[0], *(75, 100, 3))"
   ]
  },
  {
   "cell_type": "markdown",
   "metadata": {},
   "source": [
    "Data augmentation to prevent overfitting:"
   ]
  },
  {
   "cell_type": "code",
   "execution_count": 21,
   "metadata": {},
   "outputs": [],
   "source": [
    "datagen = ImageDataGenerator(\n",
    "        featurewise_center=False,  # set input mean to 0 over the dataset\n",
    "        samplewise_center=False,  # set each sample mean to 0\n",
    "        featurewise_std_normalization=False,  # divide inputs by std of the dataset\n",
    "        samplewise_std_normalization=False,  # divide each input by its std\n",
    "        zca_whitening=False,  # apply ZCA whitening\n",
    "        rotation_range=10,  # randomly rotate images in the range (degrees, 0 to 180)\n",
    "        zoom_range = 0.1, # Randomly zoom image \n",
    "        width_shift_range=0.1,  # randomly shift images horizontally (fraction of total width)\n",
    "        height_shift_range=0.1,  # randomly shift images vertically (fraction of total height)\n",
    "        horizontal_flip=False,  # randomly flip images\n",
    "        vertical_flip=False)  # randomly flip images\n",
    "\n",
    "datagen.fit(x_train)\n",
    "\n"
   ]
  },
  {
   "cell_type": "markdown",
   "metadata": {},
   "source": [
    "CNN model creation:"
   ]
  },
  {
   "cell_type": "code",
   "execution_count": 22,
   "metadata": {},
   "outputs": [
    {
     "name": "stdout",
     "output_type": "stream",
     "text": [
      "Model: \"sequential\"\n",
      "_________________________________________________________________\n",
      " Layer (type)                Output Shape              Param #   \n",
      "=================================================================\n",
      " conv2d (Conv2D)             (None, 75, 100, 32)       896       \n",
      "                                                                 \n",
      " conv2d_1 (Conv2D)           (None, 75, 100, 32)       9248      \n",
      "                                                                 \n",
      " max_pooling2d (MaxPooling2  (None, 37, 50, 32)        0         \n",
      " D)                                                              \n",
      "                                                                 \n",
      " dropout (Dropout)           (None, 37, 50, 32)        0         \n",
      "                                                                 \n",
      " conv2d_2 (Conv2D)           (None, 37, 50, 64)        18496     \n",
      "                                                                 \n",
      " conv2d_3 (Conv2D)           (None, 37, 50, 64)        36928     \n",
      "                                                                 \n",
      " max_pooling2d_1 (MaxPoolin  (None, 18, 25, 64)        0         \n",
      " g2D)                                                            \n",
      "                                                                 \n",
      " dropout_1 (Dropout)         (None, 18, 25, 64)        0         \n",
      "                                                                 \n",
      " flatten (Flatten)           (None, 28800)             0         \n",
      "                                                                 \n",
      " dense (Dense)               (None, 128)               3686528   \n",
      "                                                                 \n",
      " dropout_2 (Dropout)         (None, 128)               0         \n",
      "                                                                 \n",
      " dense_1 (Dense)             (None, 7)                 903       \n",
      "                                                                 \n",
      "=================================================================\n",
      "Total params: 3752999 (14.32 MB)\n",
      "Trainable params: 3752999 (14.32 MB)\n",
      "Non-trainable params: 0 (0.00 Byte)\n",
      "_________________________________________________________________\n"
     ]
    }
   ],
   "source": [
    "input_shape = (75, 100, 3)\n",
    "num_classes = 7\n",
    "\n",
    "model = Sequential()\n",
    "model.add(Conv2D(32, kernel_size=(3, 3),activation='relu',padding = 'Same',input_shape=input_shape))\n",
    "model.add(Conv2D(32,kernel_size=(3, 3), activation='relu',padding = 'Same',))\n",
    "model.add(MaxPool2D(pool_size = (2, 2)))\n",
    "model.add(Dropout(0.25))\n",
    "\n",
    "model.add(Conv2D(64, (3, 3), activation='relu',padding = 'Same'))\n",
    "model.add(Conv2D(64, (3, 3), activation='relu',padding = 'Same'))\n",
    "model.add(MaxPool2D(pool_size=(2, 2)))\n",
    "model.add(Dropout(0.40))\n",
    "\n",
    "model.add(Flatten())\n",
    "model.add(Dense(128, activation='relu'))\n",
    "model.add(Dropout(0.5))\n",
    "model.add(Dense(num_classes, activation='softmax'))\n",
    "model.summary()"
   ]
  },
  {
   "cell_type": "code",
   "execution_count": 23,
   "metadata": {},
   "outputs": [],
   "source": [
    "# Compile the model\n",
    "model.compile(optimizer = tf.keras.optimizers.legacy.Adam() , loss = tf.keras.losses.BinaryCrossentropy(), metrics=['accuracy'])\n",
    "\n",
    "# Set a learning rate annealer\n",
    "learning_rate_reduction = ReduceLROnPlateau(monitor='val_accuracy', \n",
    "                                            patience=3, \n",
    "                                            verbose=1, \n",
    "                                            factor=0.5, \n",
    "                                            learning_rate=0.00001)"
   ]
  },
  {
   "cell_type": "markdown",
   "metadata": {},
   "source": [
    "Fitting the model:"
   ]
  },
  {
   "cell_type": "code",
   "execution_count": 24,
   "metadata": {},
   "outputs": [
    {
     "name": "stdout",
     "output_type": "stream",
     "text": [
      "Epoch 1/50\n"
     ]
    },
    {
     "name": "stderr",
     "output_type": "stream",
     "text": [
      "C:\\Users\\49176\\AppData\\Local\\Temp\\ipykernel_20932\\4200995115.py:3: UserWarning: `Model.fit_generator` is deprecated and will be removed in a future version. Please use `Model.fit`, which supports generators.\n",
      "  history = model.fit_generator(datagen.flow(x_train,y_train, batch_size=batch_size),\n"
     ]
    },
    {
     "name": "stdout",
     "output_type": "stream",
     "text": [
      "630/630 [==============================] - 168s 266ms/step - loss: 0.2502 - accuracy: 0.6611 - val_loss: 0.2186 - val_accuracy: 0.6605 - lr: 0.0010\n",
      "Epoch 2/50\n",
      "630/630 [==============================] - 167s 265ms/step - loss: 0.2193 - accuracy: 0.6790 - val_loss: 0.2073 - val_accuracy: 0.6719 - lr: 0.0010\n",
      "Epoch 3/50\n",
      "630/630 [==============================] - 166s 263ms/step - loss: 0.2140 - accuracy: 0.6817 - val_loss: 0.2005 - val_accuracy: 0.6676 - lr: 0.0010\n",
      "Epoch 4/50\n",
      "630/630 [==============================] - 165s 261ms/step - loss: 0.2051 - accuracy: 0.6874 - val_loss: 0.1951 - val_accuracy: 0.6847 - lr: 0.0010\n",
      "Epoch 5/50\n",
      "630/630 [==============================] - 166s 264ms/step - loss: 0.2026 - accuracy: 0.6920 - val_loss: 0.1892 - val_accuracy: 0.6919 - lr: 0.0010\n",
      "Epoch 6/50\n",
      "630/630 [==============================] - 165s 261ms/step - loss: 0.1961 - accuracy: 0.6976 - val_loss: 0.1865 - val_accuracy: 0.7133 - lr: 0.0010\n",
      "Epoch 7/50\n",
      "630/630 [==============================] - 165s 261ms/step - loss: 0.1921 - accuracy: 0.7104 - val_loss: 0.1855 - val_accuracy: 0.7190 - lr: 0.0010\n",
      "Epoch 8/50\n",
      "630/630 [==============================] - 165s 261ms/step - loss: 0.1881 - accuracy: 0.7113 - val_loss: 0.1836 - val_accuracy: 0.7147 - lr: 0.0010\n",
      "Epoch 9/50\n",
      "630/630 [==============================] - 166s 263ms/step - loss: 0.1861 - accuracy: 0.7125 - val_loss: 0.1806 - val_accuracy: 0.7233 - lr: 0.0010\n",
      "Epoch 10/50\n",
      "630/630 [==============================] - 165s 261ms/step - loss: 0.1831 - accuracy: 0.7252 - val_loss: 0.1840 - val_accuracy: 0.7090 - lr: 0.0010\n",
      "Epoch 11/50\n",
      "630/630 [==============================] - 165s 261ms/step - loss: 0.1813 - accuracy: 0.7195 - val_loss: 0.1727 - val_accuracy: 0.7275 - lr: 0.0010\n",
      "Epoch 12/50\n",
      "630/630 [==============================] - 165s 262ms/step - loss: 0.1779 - accuracy: 0.7312 - val_loss: 0.1785 - val_accuracy: 0.7247 - lr: 0.0010\n",
      "Epoch 13/50\n",
      "630/630 [==============================] - 165s 262ms/step - loss: 0.1792 - accuracy: 0.7242 - val_loss: 0.1738 - val_accuracy: 0.7218 - lr: 0.0010\n",
      "Epoch 14/50\n",
      "630/630 [==============================] - ETA: 0s - loss: 0.1747 - accuracy: 0.7295\n",
      "Epoch 14: ReduceLROnPlateau reducing learning rate to 0.0005000000237487257.\n",
      "630/630 [==============================] - 170s 269ms/step - loss: 0.1747 - accuracy: 0.7295 - val_loss: 0.1792 - val_accuracy: 0.7147 - lr: 0.0010\n",
      "Epoch 15/50\n",
      "630/630 [==============================] - 165s 262ms/step - loss: 0.1675 - accuracy: 0.7419 - val_loss: 0.1708 - val_accuracy: 0.7233 - lr: 5.0000e-04\n",
      "Epoch 16/50\n",
      "630/630 [==============================] - 165s 262ms/step - loss: 0.1643 - accuracy: 0.7493 - val_loss: 0.1769 - val_accuracy: 0.7290 - lr: 5.0000e-04\n",
      "Epoch 17/50\n",
      "630/630 [==============================] - 164s 260ms/step - loss: 0.1633 - accuracy: 0.7546 - val_loss: 0.1657 - val_accuracy: 0.7603 - lr: 5.0000e-04\n",
      "Epoch 18/50\n",
      "630/630 [==============================] - 164s 261ms/step - loss: 0.1591 - accuracy: 0.7565 - val_loss: 0.1647 - val_accuracy: 0.7461 - lr: 5.0000e-04\n",
      "Epoch 19/50\n",
      "630/630 [==============================] - 165s 262ms/step - loss: 0.1604 - accuracy: 0.7596 - val_loss: 0.1631 - val_accuracy: 0.7504 - lr: 5.0000e-04\n",
      "Epoch 20/50\n",
      "630/630 [==============================] - ETA: 0s - loss: 0.1567 - accuracy: 0.7615\n",
      "Epoch 20: ReduceLROnPlateau reducing learning rate to 0.0002500000118743628.\n",
      "630/630 [==============================] - 166s 263ms/step - loss: 0.1567 - accuracy: 0.7615 - val_loss: 0.1592 - val_accuracy: 0.7561 - lr: 5.0000e-04\n",
      "Epoch 21/50\n",
      "630/630 [==============================] - 165s 263ms/step - loss: 0.1543 - accuracy: 0.7660 - val_loss: 0.1578 - val_accuracy: 0.7646 - lr: 2.5000e-04\n",
      "Epoch 22/50\n",
      "630/630 [==============================] - 165s 261ms/step - loss: 0.1514 - accuracy: 0.7689 - val_loss: 0.1661 - val_accuracy: 0.7504 - lr: 2.5000e-04\n",
      "Epoch 23/50\n",
      "630/630 [==============================] - 165s 262ms/step - loss: 0.1504 - accuracy: 0.7725 - val_loss: 0.1632 - val_accuracy: 0.7447 - lr: 2.5000e-04\n",
      "Epoch 24/50\n",
      "630/630 [==============================] - ETA: 0s - loss: 0.1498 - accuracy: 0.7760\n",
      "Epoch 24: ReduceLROnPlateau reducing learning rate to 0.0001250000059371814.\n",
      "630/630 [==============================] - 165s 262ms/step - loss: 0.1498 - accuracy: 0.7760 - val_loss: 0.1664 - val_accuracy: 0.7418 - lr: 2.5000e-04\n",
      "Epoch 25/50\n",
      "630/630 [==============================] - 165s 263ms/step - loss: 0.1443 - accuracy: 0.7800 - val_loss: 0.1635 - val_accuracy: 0.7475 - lr: 1.2500e-04\n",
      "Epoch 26/50\n",
      "630/630 [==============================] - 165s 262ms/step - loss: 0.1438 - accuracy: 0.7793 - val_loss: 0.1635 - val_accuracy: 0.7461 - lr: 1.2500e-04\n",
      "Epoch 27/50\n",
      "630/630 [==============================] - ETA: 0s - loss: 0.1446 - accuracy: 0.7849\n",
      "Epoch 27: ReduceLROnPlateau reducing learning rate to 6.25000029685907e-05.\n",
      "630/630 [==============================] - 167s 265ms/step - loss: 0.1446 - accuracy: 0.7849 - val_loss: 0.1634 - val_accuracy: 0.7432 - lr: 1.2500e-04\n",
      "Epoch 28/50\n",
      "630/630 [==============================] - 166s 264ms/step - loss: 0.1419 - accuracy: 0.7819 - val_loss: 0.1607 - val_accuracy: 0.7561 - lr: 6.2500e-05\n",
      "Epoch 29/50\n",
      "630/630 [==============================] - 167s 264ms/step - loss: 0.1428 - accuracy: 0.7847 - val_loss: 0.1603 - val_accuracy: 0.7504 - lr: 6.2500e-05\n",
      "Epoch 30/50\n",
      "630/630 [==============================] - ETA: 0s - loss: 0.1420 - accuracy: 0.7855\n",
      "Epoch 30: ReduceLROnPlateau reducing learning rate to 3.125000148429535e-05.\n",
      "630/630 [==============================] - 167s 264ms/step - loss: 0.1420 - accuracy: 0.7855 - val_loss: 0.1582 - val_accuracy: 0.7518 - lr: 6.2500e-05\n",
      "Epoch 31/50\n",
      "630/630 [==============================] - 166s 264ms/step - loss: 0.1411 - accuracy: 0.7908 - val_loss: 0.1615 - val_accuracy: 0.7532 - lr: 3.1250e-05\n",
      "Epoch 32/50\n",
      "630/630 [==============================] - 167s 266ms/step - loss: 0.1420 - accuracy: 0.7866 - val_loss: 0.1603 - val_accuracy: 0.7518 - lr: 3.1250e-05\n",
      "Epoch 33/50\n",
      "630/630 [==============================] - ETA: 0s - loss: 0.1404 - accuracy: 0.7908\n",
      "Epoch 33: ReduceLROnPlateau reducing learning rate to 1.5625000742147677e-05.\n",
      "630/630 [==============================] - 171s 272ms/step - loss: 0.1404 - accuracy: 0.7908 - val_loss: 0.1607 - val_accuracy: 0.7489 - lr: 3.1250e-05\n",
      "Epoch 34/50\n",
      "630/630 [==============================] - 169s 268ms/step - loss: 0.1404 - accuracy: 0.7843 - val_loss: 0.1615 - val_accuracy: 0.7532 - lr: 1.5625e-05\n",
      "Epoch 35/50\n",
      "630/630 [==============================] - 168s 266ms/step - loss: 0.1387 - accuracy: 0.7881 - val_loss: 0.1617 - val_accuracy: 0.7532 - lr: 1.5625e-05\n",
      "Epoch 36/50\n",
      "630/630 [==============================] - ETA: 0s - loss: 0.1389 - accuracy: 0.7884\n",
      "Epoch 36: ReduceLROnPlateau reducing learning rate to 7.812500371073838e-06.\n",
      "630/630 [==============================] - 166s 263ms/step - loss: 0.1389 - accuracy: 0.7884 - val_loss: 0.1612 - val_accuracy: 0.7532 - lr: 1.5625e-05\n",
      "Epoch 37/50\n",
      "630/630 [==============================] - 165s 262ms/step - loss: 0.1392 - accuracy: 0.7854 - val_loss: 0.1613 - val_accuracy: 0.7518 - lr: 7.8125e-06\n",
      "Epoch 38/50\n",
      "630/630 [==============================] - 166s 263ms/step - loss: 0.1392 - accuracy: 0.7896 - val_loss: 0.1611 - val_accuracy: 0.7575 - lr: 7.8125e-06\n",
      "Epoch 39/50\n",
      "630/630 [==============================] - ETA: 0s - loss: 0.1405 - accuracy: 0.7879\n",
      "Epoch 39: ReduceLROnPlateau reducing learning rate to 3.906250185536919e-06.\n",
      "630/630 [==============================] - 165s 262ms/step - loss: 0.1405 - accuracy: 0.7879 - val_loss: 0.1614 - val_accuracy: 0.7589 - lr: 7.8125e-06\n",
      "Epoch 40/50\n",
      "630/630 [==============================] - 165s 262ms/step - loss: 0.1381 - accuracy: 0.7900 - val_loss: 0.1611 - val_accuracy: 0.7589 - lr: 3.9063e-06\n",
      "Epoch 41/50\n",
      "630/630 [==============================] - 167s 264ms/step - loss: 0.1402 - accuracy: 0.7843 - val_loss: 0.1616 - val_accuracy: 0.7589 - lr: 3.9063e-06\n",
      "Epoch 42/50\n",
      "630/630 [==============================] - ETA: 0s - loss: 0.1375 - accuracy: 0.7858\n",
      "Epoch 42: ReduceLROnPlateau reducing learning rate to 1.9531250927684596e-06.\n",
      "630/630 [==============================] - 169s 267ms/step - loss: 0.1375 - accuracy: 0.7858 - val_loss: 0.1615 - val_accuracy: 0.7561 - lr: 3.9063e-06\n",
      "Epoch 43/50\n",
      "630/630 [==============================] - 173s 275ms/step - loss: 0.1384 - accuracy: 0.7917 - val_loss: 0.1617 - val_accuracy: 0.7546 - lr: 1.9531e-06\n",
      "Epoch 44/50\n",
      "630/630 [==============================] - 247s 392ms/step - loss: 0.1377 - accuracy: 0.7876 - val_loss: 0.1619 - val_accuracy: 0.7561 - lr: 1.9531e-06\n",
      "Epoch 45/50\n",
      "630/630 [==============================] - ETA: 0s - loss: 0.1400 - accuracy: 0.7893\n",
      "Epoch 45: ReduceLROnPlateau reducing learning rate to 9.765625463842298e-07.\n",
      "630/630 [==============================] - 227s 360ms/step - loss: 0.1400 - accuracy: 0.7893 - val_loss: 0.1618 - val_accuracy: 0.7561 - lr: 1.9531e-06\n",
      "Epoch 46/50\n",
      "630/630 [==============================] - 209s 332ms/step - loss: 0.1373 - accuracy: 0.7917 - val_loss: 0.1618 - val_accuracy: 0.7561 - lr: 9.7656e-07\n",
      "Epoch 47/50\n",
      "630/630 [==============================] - 180s 286ms/step - loss: 0.1396 - accuracy: 0.7911 - val_loss: 0.1618 - val_accuracy: 0.7561 - lr: 9.7656e-07\n",
      "Epoch 48/50\n",
      "630/630 [==============================] - ETA: 0s - loss: 0.1383 - accuracy: 0.7882\n",
      "Epoch 48: ReduceLROnPlateau reducing learning rate to 4.882812731921149e-07.\n",
      "630/630 [==============================] - 155s 246ms/step - loss: 0.1383 - accuracy: 0.7882 - val_loss: 0.1618 - val_accuracy: 0.7546 - lr: 9.7656e-07\n",
      "Epoch 49/50\n",
      "630/630 [==============================] - 156s 247ms/step - loss: 0.1383 - accuracy: 0.7844 - val_loss: 0.1618 - val_accuracy: 0.7546 - lr: 4.8828e-07\n",
      "Epoch 50/50\n",
      "630/630 [==============================] - 167s 265ms/step - loss: 0.1379 - accuracy: 0.7927 - val_loss: 0.1618 - val_accuracy: 0.7546 - lr: 4.8828e-07\n"
     ]
    }
   ],
   "source": [
    "epochs = 50\n",
    "batch_size = 10\n",
    "history = model.fit_generator(datagen.flow(x_train,y_train, batch_size=batch_size),\n",
    "                              epochs = epochs, validation_data = (x_validate,y_validate),\n",
    "                              verbose = 1, steps_per_epoch=x_train.shape[0] // batch_size\n",
    "                              , callbacks=[learning_rate_reduction])"
   ]
  },
  {
   "cell_type": "code",
   "execution_count": 25,
   "metadata": {},
   "outputs": [
    {
     "data": {
      "text/plain": [
       "['model_acc_79.pkl']"
      ]
     },
     "execution_count": 25,
     "metadata": {},
     "output_type": "execute_result"
    }
   ],
   "source": [
    "# Saving the model\n",
    "import joblib\n",
    "joblib.dump(model, 'model_acc_79.pkl')"
   ]
  },
  {
   "cell_type": "code",
   "execution_count": 26,
   "metadata": {},
   "outputs": [
    {
     "data": {
      "text/plain": [
       "<matplotlib.legend.Legend at 0x1955788ee10>"
      ]
     },
     "execution_count": 26,
     "metadata": {},
     "output_type": "execute_result"
    },
    {
     "data": {
      "image/png": "[encoded data removed]",
      "text/plain": [
       "<Figure size 640x480 with 1 Axes>"
      ]
     },
     "metadata": {},
     "output_type": "display_data"
    }
   ],
   "source": [
    "plt.plot(history.history['accuracy'])\n",
    "plt.plot(history.history['val_accuracy'])\n",
    "plt.legend(['train', 'validation'], loc='upper left')"
   ]
  },
  {
   "cell_type": "markdown",
   "metadata": {},
   "source": [
    "Function for the evaluation of a classification with a neural network:"
   ]
  },
  {
   "cell_type": "code",
   "execution_count": 30,
   "metadata": {},
   "outputs": [],
   "source": [
    "def evaluate_classification_neural_network(y_train, y_test, y_pred_train, y_pred_test):\n",
    "    # Convert probabilities to binary predictions using the threshold\n",
    "    threshold=0.5\n",
    "    y_pred_train_binary = (y_pred_train > threshold).astype(int)\n",
    "    y_pred_test_binary = (y_pred_test > threshold).astype(int)\n",
    "\n",
    "    # Print accuracy of our model for train and test set\n",
    "    print(\"Accuracy on train set:\", round(accuracy_score(y_train, y_pred_train_binary), 2))\n",
    "    print(\"Accuracy on test set:\", round(accuracy_score(y_test, y_pred_test_binary), 2))\n",
    "    print(\"--------\" * 10)\n",
    "\n",
    "    # Print classification report of our model for train data\n",
    "    print(\"Classification for train data:\")\n",
    "    print(classification_report(y_train, y_pred_train_binary))\n",
    "    print(\"--------\" * 10)\n",
    "\n",
    "    # Print classification report of our model for test data\n",
    "    print(\"Classification for test data:\")\n",
    "    print(classification_report(y_test, y_pred_test_binary))\n",
    "    print(\"--------\" * 10)\n",
    "\n",
    "    # Evaluate the model with a confusion matrix\n",
    "    cm = confusion_matrix(y_test, y_pred_test_binary)\n",
    "\n",
    "    # Plot smaller heatmap\n",
    "    heatmap_size=(8, 6)\n",
    "    fig, ax = plt.subplots(figsize=heatmap_size)\n",
    "    sns.heatmap(cm, annot=True, cmap='YlOrRd',\n",
    "                yticklabels=['Actual negative', 'Actual positive'],\n",
    "                xticklabels=['Predicted negative', 'Predicted positive'], ax=ax)\n",
    "    plt.show()"
   ]
  },
  {
   "cell_type": "code",
   "execution_count": 28,
   "metadata": {},
   "outputs": [
    {
     "name": "stdout",
     "output_type": "stream",
     "text": [
      "198/198 [==============================] - 35s 175ms/step\n",
      "94/94 [==============================] - 15s 161ms/step\n"
     ]
    }
   ],
   "source": [
    "y_pred_train = model.predict(x_train)\n",
    "y_pred_test = model.predict(x_test)"
   ]
  },
  {
   "cell_type": "code",
   "execution_count": 33,
   "metadata": {},
   "outputs": [
    {
     "name": "stdout",
     "output_type": "stream",
     "text": [
      "Accuracy on train set: 0.78\n",
      "Accuracy on test set: 0.72\n",
      "--------------------------------------------------------------------------------\n",
      "Classification for train data:\n",
      "              precision    recall  f1-score   support\n",
      "\n",
      "           0       0.72      0.19      0.30       204\n",
      "           1       0.75      0.54      0.62       339\n",
      "           2       0.64      0.55      0.59       671\n",
      "           3       0.00      0.00      0.00        65\n",
      "           4       0.89      0.94      0.92      4246\n",
      "           5       0.76      0.32      0.45       686\n",
      "           6       0.99      0.73      0.84        98\n",
      "\n",
      "   micro avg       0.86      0.78      0.81      6309\n",
      "   macro avg       0.68      0.47      0.53      6309\n",
      "weighted avg       0.83      0.78      0.79      6309\n",
      " samples avg       0.78      0.78      0.78      6309\n",
      "\n",
      "--------------------------------------------------------------------------------\n",
      "Classification for test data:\n",
      "              precision    recall  f1-score   support\n",
      "\n",
      "           0       0.48      0.10      0.17        96\n",
      "           1       0.58      0.42      0.49       143\n",
      "           2       0.58      0.45      0.51       350\n",
      "           3       0.00      0.00      0.00        39\n",
      "           4       0.85      0.92      0.88      1997\n",
      "           5       0.65      0.24      0.35       347\n",
      "           6       0.84      0.64      0.72        33\n",
      "\n",
      "   micro avg       0.80      0.72      0.76      3005\n",
      "   macro avg       0.57      0.40      0.45      3005\n",
      "weighted avg       0.76      0.72      0.72      3005\n",
      " samples avg       0.72      0.72      0.72      3005\n",
      "\n",
      "--------------------------------------------------------------------------------\n"
     ]
    },
    {
     "name": "stderr",
     "output_type": "stream",
     "text": [
      "c:\\Users\\49176\\AppData\\Local\\Programs\\Python\\Python311\\Lib\\site-packages\\sklearn\\metrics\\_classification.py:1344: UndefinedMetricWarning: Precision and F-score are ill-defined and being set to 0.0 in labels with no predicted samples. Use `zero_division` parameter to control this behavior.\n",
      "  _warn_prf(average, modifier, msg_start, len(result))\n",
      "c:\\Users\\49176\\AppData\\Local\\Programs\\Python\\Python311\\Lib\\site-packages\\sklearn\\metrics\\_classification.py:1344: UndefinedMetricWarning: Precision and F-score are ill-defined and being set to 0.0 in samples with no predicted labels. Use `zero_division` parameter to control this behavior.\n",
      "  _warn_prf(average, modifier, msg_start, len(result))\n",
      "c:\\Users\\49176\\AppData\\Local\\Programs\\Python\\Python311\\Lib\\site-packages\\sklearn\\metrics\\_classification.py:1344: UndefinedMetricWarning: Precision and F-score are ill-defined and being set to 0.0 in labels with no predicted samples. Use `zero_division` parameter to control this behavior.\n",
      "  _warn_prf(average, modifier, msg_start, len(result))\n",
      "c:\\Users\\49176\\AppData\\Local\\Programs\\Python\\Python311\\Lib\\site-packages\\sklearn\\metrics\\_classification.py:1344: UndefinedMetricWarning: Precision and F-score are ill-defined and being set to 0.0 in samples with no predicted labels. Use `zero_division` parameter to control this behavior.\n",
      "  _warn_prf(average, modifier, msg_start, len(result))\n"
     ]
    },
    {
     "ename": "ValueError",
     "evalue": "multilabel-indicator is not supported",
     "output_type": "error",
     "traceback": [
      "\u001b[1;31m---------------------------------------------------------------------------\u001b[0m",
      "\u001b[1;31mValueError\u001b[0m                                Traceback (most recent call last)",
      "\u001b[1;32mc:\\Users\\49176\\Desktop\\Skin Cancer Project\\Skin Cancer\\Skin_cancer_image_classification.ipynb Cell 48\u001b[0m line \u001b[0;36m1\n\u001b[1;32m----> <a href='vscode-notebook-cell:/c%3A/Users/49176/Desktop/Skin%20Cancer%20Project/Skin%20Cancer/Skin_cancer_image_classification.ipynb#Y111sZmlsZQ%3D%3D?line=0'>1</a>\u001b[0m evaluate_classification_neural_network(y_train, y_test, y_pred_train, y_pred_test)\n",
      "\u001b[1;32mc:\\Users\\49176\\Desktop\\Skin Cancer Project\\Skin Cancer\\Skin_cancer_image_classification.ipynb Cell 48\u001b[0m line \u001b[0;36m2\n\u001b[0;32m     <a href='vscode-notebook-cell:/c%3A/Users/49176/Desktop/Skin%20Cancer%20Project/Skin%20Cancer/Skin_cancer_image_classification.ipynb#Y111sZmlsZQ%3D%3D?line=19'>20</a>\u001b[0m \u001b[39mprint\u001b[39m(\u001b[39m\"\u001b[39m\u001b[39m--------\u001b[39m\u001b[39m\"\u001b[39m \u001b[39m*\u001b[39m \u001b[39m10\u001b[39m)\n\u001b[0;32m     <a href='vscode-notebook-cell:/c%3A/Users/49176/Desktop/Skin%20Cancer%20Project/Skin%20Cancer/Skin_cancer_image_classification.ipynb#Y111sZmlsZQ%3D%3D?line=21'>22</a>\u001b[0m \u001b[39m# Evaluate the model with a confusion matrix\u001b[39;00m\n\u001b[1;32m---> <a href='vscode-notebook-cell:/c%3A/Users/49176/Desktop/Skin%20Cancer%20Project/Skin%20Cancer/Skin_cancer_image_classification.ipynb#Y111sZmlsZQ%3D%3D?line=22'>23</a>\u001b[0m cm \u001b[39m=\u001b[39m confusion_matrix(y_test, y_pred_test_binary)\n\u001b[0;32m     <a href='vscode-notebook-cell:/c%3A/Users/49176/Desktop/Skin%20Cancer%20Project/Skin%20Cancer/Skin_cancer_image_classification.ipynb#Y111sZmlsZQ%3D%3D?line=24'>25</a>\u001b[0m \u001b[39m# Plot smaller heatmap\u001b[39;00m\n\u001b[0;32m     <a href='vscode-notebook-cell:/c%3A/Users/49176/Desktop/Skin%20Cancer%20Project/Skin%20Cancer/Skin_cancer_image_classification.ipynb#Y111sZmlsZQ%3D%3D?line=25'>26</a>\u001b[0m heatmap_size\u001b[39m=\u001b[39m(\u001b[39m8\u001b[39m, \u001b[39m6\u001b[39m)\n",
      "File \u001b[1;32mc:\\Users\\49176\\AppData\\Local\\Programs\\Python\\Python311\\Lib\\site-packages\\sklearn\\metrics\\_classification.py:319\u001b[0m, in \u001b[0;36mconfusion_matrix\u001b[1;34m(y_true, y_pred, labels, sample_weight, normalize)\u001b[0m\n\u001b[0;32m    317\u001b[0m y_type, y_true, y_pred \u001b[39m=\u001b[39m _check_targets(y_true, y_pred)\n\u001b[0;32m    318\u001b[0m \u001b[39mif\u001b[39;00m y_type \u001b[39mnot\u001b[39;00m \u001b[39min\u001b[39;00m (\u001b[39m\"\u001b[39m\u001b[39mbinary\u001b[39m\u001b[39m\"\u001b[39m, \u001b[39m\"\u001b[39m\u001b[39mmulticlass\u001b[39m\u001b[39m\"\u001b[39m):\n\u001b[1;32m--> 319\u001b[0m     \u001b[39mraise\u001b[39;00m \u001b[39mValueError\u001b[39;00m(\u001b[39m\"\u001b[39m\u001b[39m%s\u001b[39;00m\u001b[39m is not supported\u001b[39m\u001b[39m\"\u001b[39m \u001b[39m%\u001b[39m y_type)\n\u001b[0;32m    321\u001b[0m \u001b[39mif\u001b[39;00m labels \u001b[39mis\u001b[39;00m \u001b[39mNone\u001b[39;00m:\n\u001b[0;32m    322\u001b[0m     labels \u001b[39m=\u001b[39m unique_labels(y_true, y_pred)\n",
      "\u001b[1;31mValueError\u001b[0m: multilabel-indicator is not supported"
     ]
    }
   ],
   "source": [
    "evaluate_classification_neural_network(y_train, y_test, y_pred_train, y_pred_test)"
   ]
  },
  {
   "cell_type": "code",
   "execution_count": 40,
   "metadata": {},
   "outputs": [
    {
     "name": "stdout",
     "output_type": "stream",
     "text": [
      "94/94 [==============================] - 14s 152ms/step - loss: 0.1624 - accuracy: 0.7564\n",
      "22/22 [==============================] - 3s 148ms/step - loss: 0.1618 - accuracy: 0.7546\n",
      "Validation: accuracy = 0.754636  ;  loss_v = 0.161774\n",
      "Test: accuracy = 0.756406  ;  loss = 0.162380\n"
     ]
    }
   ],
   "source": [
    "\n",
    "loss, accuracy = model.evaluate(x_test, y_test, verbose=1)\n",
    "loss_v, accuracy_v = model.evaluate(x_validate, y_validate, verbose=1)\n",
    "print(\"Validation: accuracy = %f  ;  loss_v = %f\" % (accuracy_v, loss_v))\n",
    "print(\"Test: accuracy = %f  ;  loss = %f\" % (accuracy, loss))"
   ]
  },
  {
   "cell_type": "code",
   "execution_count": 35,
   "metadata": {},
   "outputs": [],
   "source": [
    " def plot_confusion_matrix(cm, classes,\n",
    "                          normalize=False,\n",
    "                          title='Confusion matrix',\n",
    "                          cmap=plt.cm.Blues):\n",
    "    \"\"\"\n",
    "    This function prints and plots the confusion matrix.\n",
    "    Normalization can be applied by setting `normalize=True`.\n",
    "    \"\"\"\n",
    "    plt.imshow(cm, interpolation='nearest', cmap=cmap)\n",
    "    plt.title(title)\n",
    "    plt.colorbar()\n",
    "    tick_marks = np.arange(len(classes))\n",
    "    plt.xticks(tick_marks, classes, rotation=45)\n",
    "    plt.yticks(tick_marks, classes)\n",
    "\n",
    "    if normalize:\n",
    "        cm = cm.astype('float') / cm.sum(axis=1)[:, np.newaxis]\n",
    "\n",
    "    thresh = cm.max() / 2.\n",
    "    for i, j in itertools.product(range(cm.shape[0]), range(cm.shape[1])):\n",
    "        plt.text(j, i, cm[i, j],\n",
    "                 horizontalalignment=\"center\",\n",
    "                 color=\"white\" if cm[i, j] > thresh else \"black\")\n",
    "\n",
    "    plt.tight_layout()\n",
    "    plt.ylabel('True label')\n",
    "    plt.xlabel('Predicted label')\n"
   ]
  },
  {
   "cell_type": "markdown",
   "metadata": {},
   "source": [
    "Confusion matrix with training data:"
   ]
  },
  {
   "cell_type": "code",
   "execution_count": 39,
   "metadata": {},
   "outputs": [
    {
     "name": "stdout",
     "output_type": "stream",
     "text": [
      "198/198 [==============================] - 33s 165ms/step\n"
     ]
    },
    {
     "data": {
      "image/png": "[encoded data removed]",
      "text/plain": [
       "<Figure size 640x480 with 2 Axes>"
      ]
     },
     "metadata": {},
     "output_type": "display_data"
    }
   ],
   "source": [
    "# Predict the values from the validation dataset\n",
    "Y_pred = model.predict(x_train)\n",
    "# Convert predictions classes to one hot vectors \n",
    "Y_pred_classes = np.argmax(Y_pred,axis = 1) \n",
    "# Convert validation observations to one hot vectors\n",
    "Y_true = np.argmax(y_train,axis = 1) \n",
    "# compute the confusion matrix\n",
    "confusion_mtx = confusion_matrix(Y_true, Y_pred_classes)\n",
    "\n",
    "\n",
    "# plot the confusion matrix\n",
    "plot_confusion_matrix(confusion_mtx, classes = range(7)) "
   ]
  },
  {
   "cell_type": "markdown",
   "metadata": {},
   "source": [
    "Confusion matrix with test data:"
   ]
  },
  {
   "cell_type": "code",
   "execution_count": 38,
   "metadata": {},
   "outputs": [
    {
     "name": "stdout",
     "output_type": "stream",
     "text": [
      "94/94 [==============================] - 15s 157ms/step\n"
     ]
    },
    {
     "data": {
      "image/png": "[encoded data removed]",
      "text/plain": [
       "<Figure size 640x480 with 2 Axes>"
      ]
     },
     "metadata": {},
     "output_type": "display_data"
    }
   ],
   "source": [
    "Y_pred = model.predict(x_test)\n",
    "\n",
    "# Convert predictions classes to one hot vectors \n",
    "Y_pred_classes = np.argmax(Y_pred,axis = 1) \n",
    "\n",
    "# Convert validation observations to one hot vectors\n",
    "Y_true = np.argmax(y_test,axis = 1) \n",
    "\n",
    "# compute the confusion matrix\n",
    "confusion_mtx = confusion_matrix(Y_true, Y_pred_classes)\n",
    "\n",
    " \n",
    "\n",
    "# plot the confusion matrix\n",
    "plot_confusion_matrix(confusion_mtx, classes = range(7))"
   ]
  }
 ],
 "metadata": {
  "kernelspec": {
   "display_name": "Python 3",
   "language": "python",
   "name": "python3"
  },
  "language_info": {
   "codemirror_mode": {
    "name": "ipython",
    "version": 3
   },
   "file_extension": ".py",
   "mimetype": "text/x-python",
   "name": "python",
   "nbconvert_exporter": "python",
   "pygments_lexer": "ipython3",
   "version": "3.11.3"
  },
  "orig_nbformat": 4
 },
 "nbformat": 4,
 "nbformat_minor": 2
}
